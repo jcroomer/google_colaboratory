{
  "nbformat": 4,
  "nbformat_minor": 0,
  "metadata": {
    "colab": {
      "name": "MountDrive_cloneGIT.ipynb",
      "private_outputs": true,
      "provenance": [],
      "include_colab_link": true
    },
    "kernelspec": {
      "name": "python3",
      "display_name": "Python 3"
    }
  },
  "cells": [
    {
      "cell_type": "markdown",
      "metadata": {
        "id": "view-in-github",
        "colab_type": "text"
      },
      "source": [
        "<a href=\"https://colab.research.google.com/github/jcroomer/google_colaboratory/blob/main/MountDrive_cloneGIT.ipynb\" target=\"_parent\"><img src=\"https://colab.research.google.com/assets/colab-badge.svg\" alt=\"Open In Colab\"/></a>"
      ]
    },
    {
      "cell_type": "markdown",
      "metadata": {
        "id": "m7iBWKmomAJi"
      },
      "source": [
        "Mount gdrive"
      ]
    },
    {
      "cell_type": "code",
      "metadata": {
        "id": "mnTKEtxSliaU"
      },
      "source": [
        "from google.colab import drive\n",
        "drive.mount('/content/gdrive')"
      ],
      "execution_count": null,
      "outputs": []
    },
    {
      "cell_type": "code",
      "metadata": {
        "id": "KzPnQfKlmF_5"
      },
      "source": [
        "%cd /content/gdrive/MyDrive/Code"
      ],
      "execution_count": null,
      "outputs": []
    },
    {
      "cell_type": "code",
      "metadata": {
        "id": "SnUj-3vF_L9N"
      },
      "source": [
        "%ls"
      ],
      "execution_count": null,
      "outputs": []
    },
    {
      "cell_type": "code",
      "metadata": {
        "id": "DE6eJgMjo_q6"
      },
      "source": [
        "# Happy GITting!  \n",
        "!git  clone https://github.com/project/project.git"
      ],
      "execution_count": null,
      "outputs": []
    },
    {
      "cell_type": "code",
      "metadata": {
        "id": "wol4tp1Jsp3i"
      },
      "source": [
        "#!python3 setup.py install"
      ],
      "execution_count": null,
      "outputs": []
    }
  ]
}